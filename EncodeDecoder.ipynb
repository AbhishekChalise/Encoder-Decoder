{
  "nbformat": 4,
  "nbformat_minor": 0,
  "metadata": {
    "colab": {
      "provenance": [],
      "authorship_tag": "ABX9TyMtygeNmcBirK74V9RpIjXw",
      "include_colab_link": true
    },
    "kernelspec": {
      "name": "python3",
      "display_name": "Python 3"
    },
    "language_info": {
      "name": "python"
    }
  },
  "cells": [
    {
      "cell_type": "markdown",
      "metadata": {
        "id": "view-in-github",
        "colab_type": "text"
      },
      "source": [
        "<a href=\"https://colab.research.google.com/github/AbhishekChalise/Encoder-Decoder/blob/Encoder-and-Decoder/EncodeDecoder.ipynb\" target=\"_parent\"><img src=\"https://colab.research.google.com/assets/colab-badge.svg\" alt=\"Open In Colab\"/></a>"
      ]
    },
    {
      "cell_type": "code",
      "execution_count": 2,
      "metadata": {
        "id": "KoHGCrZBhF9i"
      },
      "outputs": [],
      "source": [
        "# download spanish to english data sets\n",
        "import tensorflow as tf"
      ]
    },
    {
      "cell_type": "code",
      "source": [
        "path_to_file = tf.keras.utils.get_file('spa-english.txt', origin = 'http://storage.googleapis.com/download.tensorflow.org/data/spa-eng.zip', extract =True)"
      ],
      "metadata": {
        "id": "fQAle73KhWB4",
        "colab": {
          "base_uri": "https://localhost:8080/"
        },
        "outputId": "b319a927-3e87-4073-fddd-e0f6c7aaa426"
      },
      "execution_count": 3,
      "outputs": [
        {
          "output_type": "stream",
          "name": "stdout",
          "text": [
            "Downloading data from http://storage.googleapis.com/download.tensorflow.org/data/spa-eng.zip\n",
            "\u001b[1m2638744/2638744\u001b[0m \u001b[32m━━━━━━━━━━━━━━━━━━━━\u001b[0m\u001b[37m\u001b[0m \u001b[1m1s\u001b[0m 0us/step\n"
          ]
        }
      ]
    },
    {
      "cell_type": "code",
      "source": [
        "import unicodedata\n",
        "# example c`afe, here c has diacritical marks, so c is assecented character and Mn means that doesnot take space since the diacritical doesnot take space so we have mn here.\n",
        "# Converting normal form in decomposed form.\n",
        "def unicode_to_ascii(s):\n",
        "  return ''.join(c for c in unicodedata.normalize('NFD',s) if unicodedata.category(c)!='Mn')"
      ],
      "metadata": {
        "id": "5rHyiqEuiokl"
      },
      "execution_count": 11,
      "outputs": []
    },
    {
      "cell_type": "code",
      "source": [
        "import re\n",
        "def process_sentence(w):\n",
        "  w = unicode_to_ascii(w.lower().strip())\n",
        "  w = re.sub(r\"([.,!?¿])\", r\" \\1\", w)\n",
        "  w = re.sub('\\s{2,}','', w)\n",
        "  w = re.sub(r\"[^a-zA-Z?.!,¿]+\", \" \", w)\n",
        "  w = w.strip()\n",
        "  w = '<start>' + w + '<end>'\n",
        "  return w"
      ],
      "metadata": {
        "id": "Mr52cxZujzIb"
      },
      "execution_count": 6,
      "outputs": []
    },
    {
      "cell_type": "code",
      "source": [
        "import io\n",
        "\n",
        "def create_dataset(path, num_examples):\n",
        "  lines = io.open(path, encoding = 'UTF-8').read().strip().split('\\n')\n",
        "  words_pair = [ [process_sentence(w) for w in l.strip('\\t')] for l in lines[:num_examples]]\n",
        "  return zip(*words_pair)"
      ],
      "metadata": {
        "id": "iZDIbWwyuewT"
      },
      "execution_count": 17,
      "outputs": []
    },
    {
      "cell_type": "code",
      "source": [
        "def tokenize(lang):\n",
        "  # Initialize a tokenizer\n",
        "  # here lang_tokenizer is an object, we are initializing the objects only here.\n",
        "  lang_tokenizer = tf.keras.preprocessing.text.Tokenizer(filter=\"\")\n",
        "  # Here we are fitting the model according to data only. after this tokenizer learns about data and gives numbering [1.hi, 2.Hello,.... etc]\n",
        "  lang_tokenizer.fit_on_texts(lang)\n",
        "  # Now we convert every number in sequences like hi, how are you [[1],[2,3,4]]\n",
        "  tensor = lang_tokenizer.texts_to_sequences(lang)\n",
        "  # Then we convert the words now into something different.\n",
        "  tensor = tf.keras.preprocessing.sequence.pad_sequences(tensor, padding = 'post')\n",
        "  # Since for input to the model we cannot have the varied data like the dimensions should not be different so we are going to put 0 example: [[1,0,0],[2,3,4]]\n",
        "\n"
      ],
      "metadata": {
        "id": "qtzmHZuZ_Bol"
      },
      "execution_count": 16,
      "outputs": []
    },
    {
      "cell_type": "code",
      "source": [],
      "metadata": {
        "id": "71J9sfsshG4n"
      },
      "execution_count": null,
      "outputs": []
    }
  ]
}